{
 "cells": [
  {
   "cell_type": "code",
   "execution_count": 1,
   "metadata": {},
   "outputs": [
    {
     "data": {
      "text/plain": [
       "2"
      ]
     },
     "execution_count": 1,
     "metadata": {},
     "output_type": "execute_result"
    }
   ],
   "source": [
    "1+1"
   ]
  },
  {
   "cell_type": "code",
   "execution_count": 2,
   "metadata": {},
   "outputs": [
    {
     "name": "stdout",
     "output_type": "stream",
     "text": [
      "3.12.3 (main, Nov  6 2024, 18:32:19) [GCC 13.2.0]\n"
     ]
    }
   ],
   "source": [
    "#https://alejandro-ao.com/chat-with-mysql-using-python-and-langchain/\n",
    "#https://www.youtube.com/watch?v=9ccl1_Wu24Q\n",
    "import sys\n",
    "print(sys.version)\n"
   ]
  },
  {
   "cell_type": "code",
   "execution_count": 3,
   "metadata": {},
   "outputs": [
    {
     "name": "stdout",
     "output_type": "stream",
     "text": [
      "sys.version_info(major=3, minor=12, micro=3, releaselevel='final', serial=0)\n"
     ]
    }
   ],
   "source": [
    "print(sys.version_info)"
   ]
  },
  {
   "cell_type": "code",
   "execution_count": null,
   "metadata": {},
   "outputs": [],
   "source": [
    "#https://github.com/lerocha/chinook-database\n",
    "#https://github.com/lerocha/chinook-database/releases"
   ]
  },
  {
   "cell_type": "code",
   "execution_count": null,
   "metadata": {},
   "outputs": [],
   "source": [
    "#sudo apt install sqlite3\n",
    "#sqlite3 chinook.db\n",
    "\n",
    "#.read Chinook.sql --or the name of your SQL file to load the database\n",
    "#.read Chinook_Sqlite.sqlite --or the name of your SQL file to load the database\n",
    "\n"
   ]
  },
  {
   "cell_type": "code",
   "execution_count": null,
   "metadata": {},
   "outputs": [],
   "source": [
    "#sudo apt install mysql-server-core-8.0\n",
    "#OR use -> sudo apt install mariadb-client-core\n",
    "\n",
    "#I went with mysql as per:\n",
    "# sudo apt update\n",
    "# sudo apt install mysql-server -y\n",
    "# sudo systemctl start mysql\n",
    "# sudo systemctl status mysql\n",
    "# sudo systemctl enable mysql #start at boot\n",
    "\n",
    "\n",
    "\n",
    "#sudo mysql -u root -p\n"
   ]
  },
  {
   "cell_type": "code",
   "execution_count": null,
   "metadata": {},
   "outputs": [],
   "source": [
    "# CREATE DATABASE chinook;\n",
    "# USE chinook;\n",
    "# SOURCE chinook.sql; --or the name of your SQL file to load the database\n",
    "# SOURCE Chinook_MySql.sql; --or the name of your SQL file to load the database\n",
    "\n",
    "#SHOW TABLES;\n",
    "#SELECT * FROM Album LIMIT 10;\n",
    "# DESCRIBE Artist;\n",
    "# SHOW FULL TABLES;"
   ]
  },
  {
   "cell_type": "code",
   "execution_count": null,
   "metadata": {},
   "outputs": [],
   "source": [
    "\n",
    "\n",
    "# SELECT TABLE_NAME, COLUMN_NAME, DATA_TYPE, IS_NULLABLE, COLUMN_DEFAULT\n",
    "# FROM INFORMATION_SCHEMA.COLUMNS\n",
    "# WHERE TABLE_SCHEMA = 'chinook';\n",
    "\n",
    "### SEE THE ENTIRE SCHEMA OF THE CHINOOK DATABASE!\n",
    "# SELECT \n",
    "#     TABLE_NAME AS `Table`, \n",
    "#     COLUMN_NAME AS `Column`, \n",
    "#     DATA_TYPE AS `Data Type`, \n",
    "#     CHARACTER_MAXIMUM_LENGTH AS `Max Length`, \n",
    "#     IS_NULLABLE AS `Nullable`, \n",
    "#     COLUMN_KEY AS `Key`, \n",
    "#     COLUMN_DEFAULT AS `Default Value`\n",
    "# FROM \n",
    "#     INFORMATION_SCHEMA.COLUMNS\n",
    "# WHERE \n",
    "#     TABLE_SCHEMA = 'Chinook'\n",
    "# ORDER BY \n",
    "#     TABLE_NAME, ORDINAL_POSITION;\n"
   ]
  }
 ],
 "metadata": {
  "kernelspec": {
   "display_name": "datachat_venv",
   "language": "python",
   "name": "python3"
  },
  "language_info": {
   "codemirror_mode": {
    "name": "ipython",
    "version": 3
   },
   "file_extension": ".py",
   "mimetype": "text/x-python",
   "name": "python",
   "nbconvert_exporter": "python",
   "pygments_lexer": "ipython3",
   "version": "3.12.3"
  }
 },
 "nbformat": 4,
 "nbformat_minor": 2
}
