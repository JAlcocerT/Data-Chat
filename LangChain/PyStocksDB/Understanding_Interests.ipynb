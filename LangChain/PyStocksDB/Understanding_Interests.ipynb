{
 "cells": [
  {
   "cell_type": "code",
   "execution_count": null,
   "metadata": {},
   "outputs": [],
   "source": []
  },
  {
   "cell_type": "code",
   "execution_count": null,
   "metadata": {},
   "outputs": [
    {
     "name": "stdout",
     "output_type": "stream",
     "text": [
      "The annual growth rate (compound interest rate) is: 5.77%\n"
     ]
    }
   ],
   "source": [
    "import math\n",
    "\n",
    "# Function to calculate the annual growth rate (compound interest rate)\n",
    "def calculate_growth_rate(P, A, t):\n",
    "    # Calculate the compound interest rate\n",
    "    r = (A / P) ** (1 / t) - 1\n",
    "    return r\n",
    "\n",
    "# Given values\n",
    "P = 150000  # Initial investment\n",
    "A = 262800  # Final result #10*12*2190\n",
    "t = 10  # Number of years (you can change this value)\n",
    "\n",
    "# Calculate the annual growth rate (as a decimal)\n",
    "growth_rate = calculate_growth_rate(P, A, t)\n",
    "\n",
    "# Convert growth rate to percentage for better understanding\n",
    "growth_rate_percentage = growth_rate * 100\n",
    "\n",
    "print(f\"The annual growth rate (compound interest rate) is: {growth_rate_percentage:.2f}%\")"
   ]
  },
  {
   "cell_type": "code",
   "execution_count": 2,
   "metadata": {},
   "outputs": [
    {
     "data": {
      "text/plain": [
       "1.752"
      ]
     },
     "execution_count": 2,
     "metadata": {},
     "output_type": "execute_result"
    }
   ],
   "source": [
    "262800/150000"
   ]
  }
 ],
 "metadata": {
  "kernelspec": {
   "display_name": "langchainChatDB_venv",
   "language": "python",
   "name": "python3"
  },
  "language_info": {
   "codemirror_mode": {
    "name": "ipython",
    "version": 3
   },
   "file_extension": ".py",
   "mimetype": "text/x-python",
   "name": "python",
   "nbconvert_exporter": "python",
   "pygments_lexer": "ipython3",
   "version": "3.12.3"
  }
 },
 "nbformat": 4,
 "nbformat_minor": 2
}
